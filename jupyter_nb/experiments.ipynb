{
 "cells": [
  {
   "cell_type": "code",
   "execution_count": 1,
   "id": "abe50ae8",
   "metadata": {},
   "outputs": [],
   "source": [
    "import re\n",
    "import pickle\n",
    "import random\n",
    "import os\n",
    "import sys\n",
    "\n",
    "import numpy as np\n",
    "import pandas as pd\n",
    "# import hdbscan\n",
    "# import umap\n",
    "import sklearn.cluster as cluster\n",
    "import plotly.express as px\n",
    "import matplotlib.pyplot as plt\n",
    "import clusteval\n",
    "import compress_fasttext\n",
    "\n",
    "from typing import List\n",
    "from sklearn.decomposition import PCA\n",
    "from sklearn.metrics import (\n",
    "    adjusted_rand_score,\n",
    "    adjusted_mutual_info_score,\n",
    "    homogeneity_score,\n",
    "    completeness_score,\n",
    "    v_measure_score,\n",
    "    silhouette_score\n",
    ")\n",
    "from scipy.linalg import norm\n",
    "from scipy.spatial.distance import pdist, squareform\n",
    "from stop_words import get_stop_words\n",
    "from gensim.models import FastText\n",
    "\n",
    "SEED = 2023\n",
    "VECTOR_SIZE = 16\n",
    "DATA_PATH = '../data/'\n",
    "MODEL_PATH = '../nlp_model/'"
   ]
  },
  {
   "cell_type": "code",
   "execution_count": 2,
   "id": "cdf3ba4f",
   "metadata": {},
   "outputs": [],
   "source": [
    "SCRIPT_DIR = os.path.dirname(os.path.abspath('./jupyter_hb'))\n",
    "sys.path.append(os.path.dirname(SCRIPT_DIR))\n",
    "\n",
    "from lib.nlp_utils import Preprocessing"
   ]
  },
  {
   "cell_type": "code",
   "execution_count": 3,
   "id": "9765ebce",
   "metadata": {},
   "outputs": [],
   "source": [
    "with open(\"../resumes.pickle\", \"rb\") as f:\n",
    "    new_resumes = pickle.load(f)"
   ]
  },
  {
   "cell_type": "code",
   "execution_count": 4,
   "id": "984b555a",
   "metadata": {},
   "outputs": [],
   "source": [
    "VECTORIZER = compress_fasttext.models.CompressedFastTextKeyedVectors.load(MODEL_PATH + 'small_model')"
   ]
  },
  {
   "cell_type": "code",
   "execution_count": 5,
   "id": "b3a9c1f6",
   "metadata": {},
   "outputs": [],
   "source": [
    "random.seed(SEED)\n",
    "\n",
    "data = (\n",
    "    pd.DataFrame\n",
    "    .from_records(new_resumes)\n",
    "    .assign(\n",
    "        one_name=lambda df: df['name'].apply(lambda txt: re.split('[,/.]', txt)[0].strip('./!? '))\n",
    "    )\n",
    "    .reset_index()\n",
    "    .rename(columns={'index': 'id'})\n",
    ")\n",
    "proc = Preprocessing()\n",
    "data['tokens_for_clustering'] = proc.process_texts(data, 'one_name')\n",
    "clustered_data = (\n",
    "    data\n",
    "    .loc[data['tokens_for_clustering'].apply(lambda x: len(x) != 0)]\n",
    "    .assign(\n",
    "        ft_vectors=lambda df: df['tokens_for_clustering'].apply(\n",
    "            lambda txt: np.array([VECTORIZER[token] for token in txt]).mean(axis=0)\n",
    "        )\n",
    "    )\n",
    ")[['id', 'one_name', 'ft_vectors']]\n",
    "\n",
    "ft_vectors = np.concatenate(\n",
    "    clustered_data['ft_vectors'].values\n",
    ").reshape(clustered_data.shape[0], -1)"
   ]
  },
  {
   "cell_type": "code",
   "execution_count": 12,
   "id": "92e4a4d6",
   "metadata": {},
   "outputs": [],
   "source": [
    "ALGORITHMS = [\n",
    "    'K-means',\n",
    "    'Affinity',\n",
    "    'Spectral',\n",
    "    'Agglomerative',\n",
    "    'DBSCAN',\n",
    "    'MeanShift'\n",
    "]\n",
    "\n",
    "\n",
    "def get_scores(algo_names: List[str], vectors: np.ndarray):\n",
    "    algorithms = []\n",
    "    \n",
    "    if 'K-means' in set(algo_names):\n",
    "        algorithms.append(cluster.KMeans(n_init=10, random_state=SEED))\n",
    "    if 'Affinity' in set(algo_names):\n",
    "        algorithms.append(cluster.AffinityPropagation(random_state=SEED))\n",
    "    if 'Spectral'in set(algo_names):\n",
    "        algorithms.append(cluster.SpectralClustering(random_state=SEED))\n",
    "    if 'Agglomerative' in set(algo_names):\n",
    "        algorithms.append(cluster.AgglomerativeClustering())\n",
    "    if 'DBSCAN' in set(algo_names):\n",
    "        algorithms.append(cluster.DBSCAN())\n",
    "    if 'MeanShift' in set(algo_names):\n",
    "        algorithms.append(cluster.MeanShift())\n",
    "        \n",
    "    scores = []\n",
    "    for algo, name in zip(algorithms, algorithms):\n",
    "        algo.fit(vectors)\n",
    "        scores.append(({\n",
    "            'Silhouette': silhouette_score(vectors, algo.labels_)}))\n",
    "\n",
    "    results = pd.DataFrame(data=scores, columns=['Silhouette'],\n",
    "                           index=algorithms)\n",
    "    return results"
   ]
  },
  {
   "cell_type": "code",
   "execution_count": 13,
   "id": "b392adb4",
   "metadata": {},
   "outputs": [
    {
     "name": "stderr",
     "output_type": "stream",
     "text": [
      "/Users/ataganova/anaconda3/lib/python3.10/site-packages/sklearn/cluster/_affinity_propagation.py:143: ConvergenceWarning: Affinity propagation did not converge, this model may return degenerate cluster centers and labels.\n",
      "  warnings.warn(\n"
     ]
    },
    {
     "data": {
      "text/html": [
       "<div>\n",
       "<style scoped>\n",
       "    .dataframe tbody tr th:only-of-type {\n",
       "        vertical-align: middle;\n",
       "    }\n",
       "\n",
       "    .dataframe tbody tr th {\n",
       "        vertical-align: top;\n",
       "    }\n",
       "\n",
       "    .dataframe thead th {\n",
       "        text-align: right;\n",
       "    }\n",
       "</style>\n",
       "<table border=\"1\" class=\"dataframe\">\n",
       "  <thead>\n",
       "    <tr style=\"text-align: right;\">\n",
       "      <th></th>\n",
       "      <th>Silhouette</th>\n",
       "    </tr>\n",
       "  </thead>\n",
       "  <tbody>\n",
       "    <tr>\n",
       "      <th>KMeans(n_init=10, random_state=2023)</th>\n",
       "      <td>0.548305</td>\n",
       "    </tr>\n",
       "    <tr>\n",
       "      <th>AffinityPropagation(random_state=2023)</th>\n",
       "      <td>0.447761</td>\n",
       "    </tr>\n",
       "    <tr>\n",
       "      <th>SpectralClustering(random_state=2023)</th>\n",
       "      <td>0.517995</td>\n",
       "    </tr>\n",
       "    <tr>\n",
       "      <th>AgglomerativeClustering()</th>\n",
       "      <td>0.346512</td>\n",
       "    </tr>\n",
       "    <tr>\n",
       "      <th>DBSCAN()</th>\n",
       "      <td>0.478731</td>\n",
       "    </tr>\n",
       "    <tr>\n",
       "      <th>MeanShift()</th>\n",
       "      <td>0.300643</td>\n",
       "    </tr>\n",
       "  </tbody>\n",
       "</table>\n",
       "</div>"
      ],
      "text/plain": [
       "                                        Silhouette\n",
       "KMeans(n_init=10, random_state=2023)      0.548305\n",
       "AffinityPropagation(random_state=2023)    0.447761\n",
       "SpectralClustering(random_state=2023)     0.517995\n",
       "AgglomerativeClustering()                 0.346512\n",
       "DBSCAN()                                  0.478731\n",
       "MeanShift()                               0.300643"
      ]
     },
     "execution_count": 13,
     "metadata": {},
     "output_type": "execute_result"
    }
   ],
   "source": [
    "get_scores(ALGORITHMS, ft_vectors)"
   ]
  },
  {
   "cell_type": "code",
   "execution_count": null,
   "id": "6859d4ee",
   "metadata": {},
   "outputs": [],
   "source": []
  }
 ],
 "metadata": {
  "kernelspec": {
   "display_name": "Python 3 (ipykernel)",
   "language": "python",
   "name": "python3"
  },
  "language_info": {
   "codemirror_mode": {
    "name": "ipython",
    "version": 3
   },
   "file_extension": ".py",
   "mimetype": "text/x-python",
   "name": "python",
   "nbconvert_exporter": "python",
   "pygments_lexer": "ipython3",
   "version": "3.10.9"
  }
 },
 "nbformat": 4,
 "nbformat_minor": 5
}
