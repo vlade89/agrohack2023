{
 "cells": [
  {
   "cell_type": "markdown",
   "metadata": {
    "id": "ZHhxAF99TM2F"
   },
   "source": [
    "## Обучение FastText модели"
   ]
  },
  {
   "cell_type": "markdown",
   "metadata": {
    "id": "wGOh2f95S7T1"
   },
   "source": [
    "### Устанавливаем зависимости"
   ]
  },
  {
   "cell_type": "code",
   "execution_count": 1,
   "metadata": {
    "colab": {
     "base_uri": "https://localhost:8080/"
    },
    "executionInfo": {
     "elapsed": 28343,
     "status": "ok",
     "timestamp": 1700321745412,
     "user": {
      "displayName": "Анна Таганова",
      "userId": "08800327143472939263"
     },
     "user_tz": -180
    },
    "id": "47BAsKGJYxAq",
    "outputId": "c86f4616-f9de-4533-bfca-1a93f3940461"
   },
   "outputs": [],
   "source": [
    "# !pip install stop_words\n",
    "# !pip install pymorphy2\n",
    "# !pip install compress-fasttext"
   ]
  },
  {
   "cell_type": "markdown",
   "metadata": {
    "id": "N9-ELjdvTgEC"
   },
   "source": [
    "### Импортируем библиотеки"
   ]
  },
  {
   "cell_type": "code",
   "execution_count": 2,
   "metadata": {
    "executionInfo": {
     "elapsed": 2479,
     "status": "ok",
     "timestamp": 1700321747885,
     "user": {
      "displayName": "Анна Таганова",
      "userId": "08800327143472939263"
     },
     "user_tz": -180
    },
    "id": "JGy6lhqdSkXO"
   },
   "outputs": [],
   "source": [
    "import os\n",
    "import sys\n",
    "import re\n",
    "import pickle\n",
    "import random\n",
    "\n",
    "import numpy as np\n",
    "import pandas as pd\n",
    "import sklearn.cluster as cluster\n",
    "import plotly.express as px\n",
    "import matplotlib.pyplot as plt\n",
    "import clusteval\n",
    "import compress_fasttext\n",
    "\n",
    "from sklearn.decomposition import PCA\n",
    "from sklearn.metrics import (\n",
    "    adjusted_rand_score,\n",
    "    adjusted_mutual_info_score,\n",
    "    homogeneity_score,\n",
    "    completeness_score,\n",
    "    v_measure_score,\n",
    "    silhouette_score\n",
    ")\n",
    "from scipy.linalg import norm\n",
    "from scipy.spatial.distance import pdist, squareform\n",
    "from stop_words import get_stop_words\n",
    "from gensim.models import FastText\n",
    "\n",
    "SEED = 2023\n",
    "VECTOR_SIZE = 16\n",
    "DATA_PATH = '../data/'\n",
    "MODEL_PATH = '../nlp_model/'\n",
    "\n",
    "SCRIPT_DIR = os.path.dirname(os.path.abspath('./jupyter_hb'))\n",
    "sys.path.append(os.path.dirname(SCRIPT_DIR))\n",
    "\n",
    "from lib.nlp_utils import Preprocessing\n",
    "from lib.statictics import calculate_center"
   ]
  },
  {
   "cell_type": "markdown",
   "metadata": {
    "id": "0nLgFUFpT0LS"
   },
   "source": [
    "### Загрузка данных"
   ]
  },
  {
   "cell_type": "code",
   "execution_count": 27,
   "metadata": {
    "executionInfo": {
     "elapsed": 12,
     "status": "ok",
     "timestamp": 1700293994133,
     "user": {
      "displayName": "Анна Таганова",
      "userId": "08800327143472939263"
     },
     "user_tz": -180
    },
    "id": "_7cTSHrfy0KF"
   },
   "outputs": [],
   "source": [
    "# резюме, которые мы соскрапили сами\n",
    "\n",
    "with open(DATA_PATH + \"agro_resumes.pickle\", \"rb\") as f:\n",
    "    resumes = pickle.load(f)\n",
    "\n",
    "resumes['text'] = (resumes['name'] + ' ' +\n",
    "                resumes['gender'] + ' ' +\n",
    "                resumes['experience'].apply(lambda x: ' '.join(x)) + ' ' +\n",
    "                resumes['education'].apply(lambda x: ' '.join(x)) + ' ' +\n",
    "                resumes['name'] + ' ' +\n",
    "                resumes['tags'].apply(lambda x: ' '.join(x)))"
   ]
  },
  {
   "cell_type": "code",
   "execution_count": 3,
   "metadata": {
    "executionInfo": {
     "elapsed": 971,
     "status": "ok",
     "timestamp": 1700321748849,
     "user": {
      "displayName": "Анна Таганова",
      "userId": "08800327143472939263"
     },
     "user_tz": -180
    },
    "id": "6zhmpiunNG-6"
   },
   "outputs": [],
   "source": [
    "# резюме, предоставленные организатором\n",
    "\n",
    "with open(\"../resumes.pickle\", \"rb\") as f:\n",
    "    new_resumes = pickle.load(f)\n",
    "\n",
    "new_resumes['text'] = (new_resumes['name'] + ' ' +\n",
    "                new_resumes['gender'] + ' ' +\n",
    "                new_resumes['experience'].apply(lambda x: ' '.join(x)) + ' ' +\n",
    "                new_resumes['education'].apply(lambda x: ' '.join(x)) + ' ' +\n",
    "                new_resumes['name'] + ' ' +\n",
    "                new_resumes['tags'].apply(lambda x: ' '.join(x)))"
   ]
  },
  {
   "cell_type": "code",
   "execution_count": 4,
   "metadata": {
    "colab": {
     "base_uri": "https://localhost:8080/"
    },
    "executionInfo": {
     "elapsed": 7,
     "status": "ok",
     "timestamp": 1700293994504,
     "user": {
      "displayName": "Анна Таганова",
      "userId": "08800327143472939263"
     },
     "user_tz": -180
    },
    "id": "s6XPtIrRPaiS",
    "outputId": "3f0ad120-037b-4f33-b0ab-1c59fe79e565"
   },
   "outputs": [
    {
     "name": "stdout",
     "output_type": "stream",
     "text": [
      "1002\n"
     ]
    }
   ],
   "source": [
    "new_resumes.head(2)\n",
    "print(len(new_resumes))"
   ]
  },
  {
   "cell_type": "code",
   "execution_count": 30,
   "metadata": {
    "executionInfo": {
     "elapsed": 5,
     "status": "ok",
     "timestamp": 1700293994505,
     "user": {
      "displayName": "Анна Таганова",
      "userId": "08800327143472939263"
     },
     "user_tz": -180
    },
    "id": "zVCojJRi3a5-"
   },
   "outputs": [],
   "source": [
    "# а также вакансии, потому что работодатели аккуратнее))\n",
    "\n",
    "with open(DATA_PATH + \"agro_vacances.pickle\", \"rb\") as f:\n",
    "    vacances = pickle.load(f)\n",
    "\n",
    "vacances['text'] = (vacances['name'] + ' ' +\n",
    "                vacances['company'] + ' ' +\n",
    "                vacances['description'].apply(lambda x: ' '.join(x)) + ' ' +\n",
    "                vacances['tags'].apply(lambda x: ' '.join(x)))"
   ]
  },
  {
   "cell_type": "markdown",
   "metadata": {
    "id": "-ouQxGSRU6Nk"
   },
   "source": [
    "### Препроцессим тексты"
   ]
  },
  {
   "cell_type": "code",
   "execution_count": 31,
   "metadata": {
    "colab": {
     "base_uri": "https://localhost:8080/"
    },
    "executionInfo": {
     "elapsed": 23519,
     "status": "ok",
     "timestamp": 1700294018020,
     "user": {
      "displayName": "Анна Таганова",
      "userId": "08800327143472939263"
     },
     "user_tz": -180
    },
    "id": "j2aQoUcLHlPt",
    "outputId": "8f85c256-6d07-4c2c-ec44-1e57c664477f"
   },
   "outputs": [
    {
     "name": "stdout",
     "output_type": "stream",
     "text": [
      "CPU times: user 909 ms, sys: 161 ms, total: 1.07 s\n",
      "Wall time: 23.5 s\n"
     ]
    }
   ],
   "source": [
    "%%time\n",
    "data = pd.concat(\n",
    "    [vacances[['text']], resumes[['text']], new_resumes[['text']]]\n",
    "    ).drop_duplicates()\n",
    "proc = Preprocessing()\n",
    "tokens = proc.process_texts(data.sample(n=data.shape[0]), 'text', proc_count=4)"
   ]
  },
  {
   "cell_type": "markdown",
   "metadata": {
    "id": "gERI4ijQVDJd"
   },
   "source": [
    "### Формируем корпус для обучения модели"
   ]
  },
  {
   "cell_type": "code",
   "execution_count": 32,
   "metadata": {
    "executionInfo": {
     "elapsed": 9,
     "status": "ok",
     "timestamp": 1700294018020,
     "user": {
      "displayName": "Анна Таганова",
      "userId": "08800327143472939263"
     },
     "user_tz": -180
    },
    "id": "cjre57H-Hfdo"
   },
   "outputs": [],
   "source": [
    "corpus = tokens.tolist()"
   ]
  },
  {
   "cell_type": "markdown",
   "metadata": {
    "id": "SVrNKRxdVOJG"
   },
   "source": [
    "### Обучаем модель эмбеддингов"
   ]
  },
  {
   "cell_type": "code",
   "execution_count": 33,
   "metadata": {
    "colab": {
     "base_uri": "https://localhost:8080/"
    },
    "executionInfo": {
     "elapsed": 5975955,
     "status": "ok",
     "timestamp": 1700299993969,
     "user": {
      "displayName": "Анна Таганова",
      "userId": "08800327143472939263"
     },
     "user_tz": -180
    },
    "id": "aSqzKM5YWUf7",
    "outputId": "e3da45ae-5932-4b04-fb94-b707a4b508a3"
   },
   "outputs": [
    {
     "name": "stdout",
     "output_type": "stream",
     "text": [
      "CPU times: user 2h 33min, sys: 11.5 s, total: 2h 33min 11s\n",
      "Wall time: 1h 39min 35s\n"
     ]
    },
    {
     "data": {
      "text/plain": [
       "(222640985, 264598000)"
      ]
     },
     "execution_count": 33,
     "metadata": {},
     "output_type": "execute_result"
    }
   ],
   "source": [
    "%%time\n",
    "random.seed(SEED)\n",
    "\n",
    "ft = FastText(\n",
    "    vector_size=VECTOR_SIZE,\n",
    "    alpha=0.01,\n",
    "    window=7,\n",
    "    sg=1,\n",
    "    hs=1,\n",
    "    negative=0\n",
    ")\n",
    "ft.build_vocab(corpus)\n",
    "ft.train(corpus, total_examples=ft.corpus_count, epochs=500)\n",
    "# Wall time: 1h 39min 35s\n",
    "# (222640985, 264598000)"
   ]
  },
  {
   "cell_type": "markdown",
   "metadata": {
    "id": "aa6x6LpDVYA5"
   },
   "source": [
    "### Сохраняем модель"
   ]
  },
  {
   "cell_type": "code",
   "execution_count": 34,
   "metadata": {
    "executionInfo": {
     "elapsed": 432,
     "status": "ok",
     "timestamp": 1700299994387,
     "user": {
      "displayName": "Анна Таганова",
      "userId": "08800327143472939263"
     },
     "user_tz": -180
    },
    "id": "X2oJy2eIFgrX"
   },
   "outputs": [],
   "source": [
    "with open(MODEL_PATH + 'ft_11_18.pikle', 'wb') as f:\n",
    "    pickle.dump(ft.wv, f)"
   ]
  },
  {
   "cell_type": "code",
   "execution_count": 35,
   "metadata": {
    "executionInfo": {
     "elapsed": 5,
     "status": "ok",
     "timestamp": 1700299994387,
     "user": {
      "displayName": "Анна Таганова",
      "userId": "08800327143472939263"
     },
     "user_tz": -180
    },
    "id": "hCBiUmzDQ0Jl"
   },
   "outputs": [],
   "source": [
    "with open(MODEL_PATH + 'ft_11_18.pikle', 'rb') as f:\n",
    "    model = pickle.load(f)"
   ]
  },
  {
   "cell_type": "markdown",
   "metadata": {
    "id": "p6aiuDenVdng"
   },
   "source": [
    "### Сжимаем модель"
   ]
  },
  {
   "cell_type": "code",
   "execution_count": 37,
   "metadata": {
    "executionInfo": {
     "elapsed": 1451,
     "status": "ok",
     "timestamp": 1700300586479,
     "user": {
      "displayName": "Анна Таганова",
      "userId": "08800327143472939263"
     },
     "user_tz": -180
    },
    "id": "t-iGGDQYh5Yb"
   },
   "outputs": [],
   "source": [
    "small_model = compress_fasttext.prune_ft_freq(model, pq=False)\n",
    "small_model.save(MODEL_PATH + 'small_model_11_18')"
   ]
  },
  {
   "cell_type": "code",
   "execution_count": 5,
   "metadata": {
    "executionInfo": {
     "elapsed": 270,
     "status": "ok",
     "timestamp": 1700327897392,
     "user": {
      "displayName": "Анна Таганова",
      "userId": "08800327143472939263"
     },
     "user_tz": -180
    },
    "id": "BgMouaOiiydf"
   },
   "outputs": [],
   "source": [
    "small_model = compress_fasttext.models.CompressedFastTextKeyedVectors.load(MODEL_PATH + 'small_model_11_18')"
   ]
  },
  {
   "cell_type": "markdown",
   "metadata": {
    "id": "Q9vPtSSMcQ3S"
   },
   "source": [
    "### Примеры работы модели"
   ]
  },
  {
   "cell_type": "code",
   "execution_count": 6,
   "metadata": {
    "colab": {
     "base_uri": "https://localhost:8080/"
    },
    "executionInfo": {
     "elapsed": 462,
     "status": "ok",
     "timestamp": 1700327941150,
     "user": {
      "displayName": "Анна Таганова",
      "userId": "08800327143472939263"
     },
     "user_tz": -180
    },
    "id": "gNQsNgUConxN",
    "outputId": "e2e1d62e-f12c-4264-d923-dbc8ad9293cd"
   },
   "outputs": [
    {
     "data": {
      "text/plain": [
       "True"
      ]
     },
     "execution_count": 6,
     "metadata": {},
     "output_type": "execute_result"
    }
   ],
   "source": [
    "'инженер сервисной службы' in small_model"
   ]
  },
  {
   "cell_type": "code",
   "execution_count": 7,
   "metadata": {
    "colab": {
     "base_uri": "https://localhost:8080/"
    },
    "executionInfo": {
     "elapsed": 291,
     "status": "ok",
     "timestamp": 1700327942829,
     "user": {
      "displayName": "Анна Таганова",
      "userId": "08800327143472939263"
     },
     "user_tz": -180
    },
    "id": "PoW1ntBUZbu2",
    "outputId": "93341acf-e36b-4770-dd54-10dbc631d926"
   },
   "outputs": [
    {
     "data": {
      "text/plain": [
       "array([ 0.0941208 , -0.18850437,  0.14989014, -0.10419964, -0.05670615,\n",
       "       -0.07730035,  0.0411265 , -0.31554565, -0.1617296 , -0.0988505 ,\n",
       "       -0.0078437 , -0.23120524, -0.19533183, -0.13649563,  0.14495279,\n",
       "       -0.24848294], dtype=float32)"
      ]
     },
     "execution_count": 7,
     "metadata": {},
     "output_type": "execute_result"
    }
   ],
   "source": [
    "small_model['инженер сервисной службы']"
   ]
  },
  {
   "cell_type": "code",
   "execution_count": 8,
   "metadata": {
    "colab": {
     "base_uri": "https://localhost:8080/"
    },
    "executionInfo": {
     "elapsed": 4,
     "status": "ok",
     "timestamp": 1700327943507,
     "user": {
      "displayName": "Анна Таганова",
      "userId": "08800327143472939263"
     },
     "user_tz": -180
    },
    "id": "jcFclirmODLq",
    "outputId": "33cb5b3d-0912-458c-cff9-6e67893aee32"
   },
   "outputs": [
    {
     "data": {
      "text/plain": [
       "0.7487594"
      ]
     },
     "execution_count": 8,
     "metadata": {},
     "output_type": "execute_result"
    }
   ],
   "source": [
    "small_model.similarity('инженер сервисной службы', 'технический специалист')"
   ]
  },
  {
   "cell_type": "code",
   "execution_count": 9,
   "metadata": {
    "colab": {
     "base_uri": "https://localhost:8080/"
    },
    "executionInfo": {
     "elapsed": 3,
     "status": "ok",
     "timestamp": 1700327944811,
     "user": {
      "displayName": "Анна Таганова",
      "userId": "08800327143472939263"
     },
     "user_tz": -180
    },
    "id": "HrxPBAThODQi",
    "outputId": "7fca8fcc-b2ac-4279-b463-4c5b27e4e36b"
   },
   "outputs": [
    {
     "data": {
      "text/plain": [
       "0.78247803"
      ]
     },
     "execution_count": 9,
     "metadata": {},
     "output_type": "execute_result"
    }
   ],
   "source": [
    "small_model.similarity('главный бухгалтер', 'главбух')"
   ]
  },
  {
   "cell_type": "code",
   "execution_count": 10,
   "metadata": {
    "colab": {
     "base_uri": "https://localhost:8080/"
    },
    "executionInfo": {
     "elapsed": 26,
     "status": "ok",
     "timestamp": 1700327945869,
     "user": {
      "displayName": "Анна Таганова",
      "userId": "08800327143472939263"
     },
     "user_tz": -180
    },
    "id": "Gx2EJsQQOXf-",
    "outputId": "fc5ca91b-e888-448d-b56b-f2a8c8049734"
   },
   "outputs": [
    {
     "data": {
      "text/plain": [
       "0.93793756"
      ]
     },
     "execution_count": 10,
     "metadata": {},
     "output_type": "execute_result"
    }
   ],
   "source": [
    "small_model.similarity('главный агроном', 'гл.агроном')"
   ]
  },
  {
   "cell_type": "code",
   "execution_count": 11,
   "metadata": {
    "colab": {
     "base_uri": "https://localhost:8080/"
    },
    "executionInfo": {
     "elapsed": 14,
     "status": "ok",
     "timestamp": 1700327947169,
     "user": {
      "displayName": "Анна Таганова",
      "userId": "08800327143472939263"
     },
     "user_tz": -180
    },
    "id": "lrT0upMyO0k3",
    "outputId": "abe8fa8f-0695-4ed3-fab5-4f054fcb69b2"
   },
   "outputs": [
    {
     "data": {
      "text/plain": [
       "0.6473034"
      ]
     },
     "execution_count": 11,
     "metadata": {},
     "output_type": "execute_result"
    }
   ],
   "source": [
    "small_model.similarity('агроном', 'агром')"
   ]
  },
  {
   "cell_type": "code",
   "execution_count": 12,
   "metadata": {
    "colab": {
     "base_uri": "https://localhost:8080/"
    },
    "executionInfo": {
     "elapsed": 10,
     "status": "ok",
     "timestamp": 1700327947169,
     "user": {
      "displayName": "Анна Таганова",
      "userId": "08800327143472939263"
     },
     "user_tz": -180
    },
    "id": "44NljyvXOiVN",
    "outputId": "7e7d6141-d294-4ca1-aa0d-0957ab0f44fe"
   },
   "outputs": [
    {
     "data": {
      "text/plain": [
       "0.9420409"
      ]
     },
     "execution_count": 12,
     "metadata": {},
     "output_type": "execute_result"
    }
   ],
   "source": [
    "small_model.similarity('главный агроном', 'старший агроном')"
   ]
  },
  {
   "cell_type": "code",
   "execution_count": 13,
   "metadata": {
    "colab": {
     "base_uri": "https://localhost:8080/"
    },
    "executionInfo": {
     "elapsed": 4,
     "status": "ok",
     "timestamp": 1700327947994,
     "user": {
      "displayName": "Анна Таганова",
      "userId": "08800327143472939263"
     },
     "user_tz": -180
    },
    "id": "5IbraAVhO3m8",
    "outputId": "994a050e-8946-49f5-f55d-fbe6d0fa33b1"
   },
   "outputs": [
    {
     "data": {
      "text/plain": [
       "0.901"
      ]
     },
     "execution_count": 13,
     "metadata": {},
     "output_type": "execute_result"
    }
   ],
   "source": [
    "small_model.similarity('ветврач', 'ветеринар')"
   ]
  },
  {
   "cell_type": "markdown",
   "metadata": {
    "id": "KT479Y6KWzen"
   },
   "source": [
    "### Для кластеризации берем первую специальность, если в резюме указали несколько"
   ]
  },
  {
   "cell_type": "code",
   "execution_count": 14,
   "metadata": {
    "colab": {
     "base_uri": "https://localhost:8080/"
    },
    "executionInfo": {
     "elapsed": 3,
     "status": "ok",
     "timestamp": 1700327951906,
     "user": {
      "displayName": "Анна Таганова",
      "userId": "08800327143472939263"
     },
     "user_tz": -180
    },
    "id": "O30cYmTx1PrE",
    "outputId": "d4dcda11-dd85-4ca0-aa50-0a11b153192c"
   },
   "outputs": [
    {
     "data": {
      "text/plain": [
       "0          Специалист сервисно-монтажной службы\n",
       "1                                инженр механик\n",
       "2                           Тракторист-машинист\n",
       "3                             Ветеринарный врач\n",
       "4        машинист подъемника каротажной станции\n",
       "                         ...                   \n",
       "997                                     Агроном\n",
       "998     Руководитель площадки откорма бройлеров\n",
       "999                                     Агроном\n",
       "1000                                 тракторист\n",
       "1001                                    Агроном\n",
       "Name: name, Length: 1002, dtype: object"
      ]
     },
     "execution_count": 14,
     "metadata": {},
     "output_type": "execute_result"
    }
   ],
   "source": [
    "new_resumes['name'].apply(lambda txt: re.split('[.,/]', txt)[0].strip('./!? '))"
   ]
  },
  {
   "cell_type": "code",
   "execution_count": 15,
   "metadata": {
    "executionInfo": {
     "elapsed": 276,
     "status": "ok",
     "timestamp": 1700327981743,
     "user": {
      "displayName": "Анна Таганова",
      "userId": "08800327143472939263"
     },
     "user_tz": -180
    },
    "id": "uGwLf8iB0wG5"
   },
   "outputs": [],
   "source": [
    "random.seed(SEED)\n",
    "\n",
    "data = (\n",
    "    pd.DataFrame\n",
    "    .from_records(new_resumes)\n",
    "    .assign(\n",
    "        one_name=lambda df: df['name'].apply(lambda txt: re.split('[,/.]', txt)[0].strip('./!? '))\n",
    "    )\n",
    "    .reset_index()\n",
    "    .rename(columns={'index': 'id'})\n",
    ")\n",
    "proc = Preprocessing()\n",
    "data['tokens_for_clustering'] = proc.process_texts(data, 'one_name')\n",
    "clustered_data = (\n",
    "    data\n",
    "    .loc[data['tokens_for_clustering'].apply(lambda x: len(x) != 0)]\n",
    "    .assign(\n",
    "        ft_vectors=lambda df: df['tokens_for_clustering'].apply(\n",
    "            lambda txt: np.array([small_model[token] for token in txt]).mean(axis=0)\n",
    "        )\n",
    "    )\n",
    ")[['id', 'one_name', 'ft_vectors']]\n",
    "\n",
    "ft_vectors = np.concatenate(\n",
    "    clustered_data['ft_vectors'].values\n",
    ").reshape(clustered_data.shape[0], -1)"
   ]
  },
  {
   "cell_type": "markdown",
   "metadata": {
    "id": "kRlYYw0gdUtP"
   },
   "source": [
    "### Кластеризация на 60 кластеров"
   ]
  },
  {
   "cell_type": "code",
   "execution_count": 16,
   "metadata": {
    "executionInfo": {
     "elapsed": 301,
     "status": "ok",
     "timestamp": 1700327983894,
     "user": {
      "displayName": "Анна Таганова",
      "userId": "08800327143472939263"
     },
     "user_tz": -180
    },
    "id": "xsxwT5hk3ZVL"
   },
   "outputs": [],
   "source": [
    "NUM_CLUSTERS = 60"
   ]
  },
  {
   "cell_type": "code",
   "execution_count": 17,
   "metadata": {
    "executionInfo": {
     "elapsed": 249,
     "status": "ok",
     "timestamp": 1700327985651,
     "user": {
      "displayName": "Анна Таганова",
      "userId": "08800327143472939263"
     },
     "user_tz": -180
    },
    "id": "I4i0Ob671HlE"
   },
   "outputs": [],
   "source": [
    "random.seed(SEED)\n",
    "\n",
    "clustered_data[f'{NUM_CLUSTERS}_clusters'] = cluster.AgglomerativeClustering(\n",
    "    n_clusters=NUM_CLUSTERS\n",
    ").fit_predict(ft_vectors)\n",
    "\n",
    "stats = calculate_center(clustered_data, f'{NUM_CLUSTERS}_clusters', num=NUM_CLUSTERS)\n",
    "clustered_data = clustered_data.merge(\n",
    "    stats,\n",
    "    how='left',\n",
    "    on=f'{NUM_CLUSTERS}_clusters'\n",
    ")"
   ]
  },
  {
   "cell_type": "code",
   "execution_count": 18,
   "metadata": {
    "id": "XnPFphybb6-X"
   },
   "outputs": [
    {
     "data": {
      "text/html": [
       "<div>\n",
       "<style scoped>\n",
       "    .dataframe tbody tr th:only-of-type {\n",
       "        vertical-align: middle;\n",
       "    }\n",
       "\n",
       "    .dataframe tbody tr th {\n",
       "        vertical-align: top;\n",
       "    }\n",
       "\n",
       "    .dataframe thead th {\n",
       "        text-align: right;\n",
       "    }\n",
       "</style>\n",
       "<table border=\"1\" class=\"dataframe\">\n",
       "  <thead>\n",
       "    <tr style=\"text-align: right;\">\n",
       "      <th></th>\n",
       "      <th>id</th>\n",
       "      <th>one_name</th>\n",
       "      <th>ft_vectors</th>\n",
       "      <th>60_clusters</th>\n",
       "      <th>cluster_60_size</th>\n",
       "      <th>cluster_60_mode</th>\n",
       "      <th>cluster_60_center</th>\n",
       "      <th>cluster_60_center_vector</th>\n",
       "    </tr>\n",
       "  </thead>\n",
       "  <tbody>\n",
       "    <tr>\n",
       "      <th>0</th>\n",
       "      <td>0</td>\n",
       "      <td>Специалист сервисно-монтажной службы</td>\n",
       "      <td>[0.05563, -0.3306, 0.1272, -0.2637, -0.1674, 0...</td>\n",
       "      <td>41</td>\n",
       "      <td>17</td>\n",
       "      <td>Технический специалист</td>\n",
       "      <td>Специалист сервисно-монтажной службы</td>\n",
       "      <td>[0.05563, -0.3306, 0.1272, -0.2637, -0.1674, 0...</td>\n",
       "    </tr>\n",
       "    <tr>\n",
       "      <th>1</th>\n",
       "      <td>1</td>\n",
       "      <td>инженр механик</td>\n",
       "      <td>[0.20347553, -0.2867262, 0.58240426, -0.129347...</td>\n",
       "      <td>7</td>\n",
       "      <td>10</td>\n",
       "      <td>Главный инженер - механик (сельское хозяйство)</td>\n",
       "      <td>инженр механик</td>\n",
       "      <td>[0.20347553, -0.2867262, 0.58240426, -0.129347...</td>\n",
       "    </tr>\n",
       "  </tbody>\n",
       "</table>\n",
       "</div>"
      ],
      "text/plain": [
       "   id                              one_name  \\\n",
       "0   0  Специалист сервисно-монтажной службы   \n",
       "1   1                        инженр механик   \n",
       "\n",
       "                                          ft_vectors  60_clusters  \\\n",
       "0  [0.05563, -0.3306, 0.1272, -0.2637, -0.1674, 0...           41   \n",
       "1  [0.20347553, -0.2867262, 0.58240426, -0.129347...            7   \n",
       "\n",
       "   cluster_60_size                                 cluster_60_mode  \\\n",
       "0               17                          Технический специалист   \n",
       "1               10  Главный инженер - механик (сельское хозяйство)   \n",
       "\n",
       "                      cluster_60_center  \\\n",
       "0  Специалист сервисно-монтажной службы   \n",
       "1                        инженр механик   \n",
       "\n",
       "                            cluster_60_center_vector  \n",
       "0  [0.05563, -0.3306, 0.1272, -0.2637, -0.1674, 0...  \n",
       "1  [0.20347553, -0.2867262, 0.58240426, -0.129347...  "
      ]
     },
     "execution_count": 18,
     "metadata": {},
     "output_type": "execute_result"
    }
   ],
   "source": [
    "clustered_data.head(2)"
   ]
  },
  {
   "cell_type": "code",
   "execution_count": 19,
   "metadata": {
    "colab": {
     "base_uri": "https://localhost:8080/",
     "height": 1000
    },
    "executionInfo": {
     "elapsed": 12,
     "status": "ok",
     "timestamp": 1700328154060,
     "user": {
      "displayName": "Анна Таганова",
      "userId": "08800327143472939263"
     },
     "user_tz": -180
    },
    "id": "QPKVi_Aa5fnb",
    "outputId": "285b4bba-bdea-40c9-fe37-cc23f98ba5fe",
    "scrolled": false
   },
   "outputs": [
    {
     "data": {
      "text/html": [
       "<div>\n",
       "<style scoped>\n",
       "    .dataframe tbody tr th:only-of-type {\n",
       "        vertical-align: middle;\n",
       "    }\n",
       "\n",
       "    .dataframe tbody tr th {\n",
       "        vertical-align: top;\n",
       "    }\n",
       "\n",
       "    .dataframe thead th {\n",
       "        text-align: right;\n",
       "    }\n",
       "</style>\n",
       "<table border=\"1\" class=\"dataframe\">\n",
       "  <thead>\n",
       "    <tr style=\"text-align: right;\">\n",
       "      <th></th>\n",
       "      <th>cluster_mode</th>\n",
       "      <th>cluster_center</th>\n",
       "      <th>names_list</th>\n",
       "      <th>cluster_size</th>\n",
       "    </tr>\n",
       "    <tr>\n",
       "      <th>60_clusters</th>\n",
       "      <th></th>\n",
       "      <th></th>\n",
       "      <th></th>\n",
       "      <th></th>\n",
       "    </tr>\n",
       "  </thead>\n",
       "  <tbody>\n",
       "    <tr>\n",
       "      <th>12</th>\n",
       "      <td>Инженер-механик</td>\n",
       "      <td>Инженер</td>\n",
       "      <td>[Инженер, Инженер, Инженер-механик, инженер, и...</td>\n",
       "      <td>161</td>\n",
       "    </tr>\n",
       "    <tr>\n",
       "      <th>2</th>\n",
       "      <td>Агроном</td>\n",
       "      <td>Агроном</td>\n",
       "      <td>[Агроном, Агроном, Агроном, Агроном, Агроном, ...</td>\n",
       "      <td>119</td>\n",
       "    </tr>\n",
       "    <tr>\n",
       "      <th>10</th>\n",
       "      <td>Ветеринарный врач</td>\n",
       "      <td>Ветеринарный врач</td>\n",
       "      <td>[Ветеринарный врач, Ветеринарный врач, Ветерин...</td>\n",
       "      <td>105</td>\n",
       "    </tr>\n",
       "    <tr>\n",
       "      <th>55</th>\n",
       "      <td>Главный агроном</td>\n",
       "      <td>Главный агроном</td>\n",
       "      <td>[Главный агроном, Главный агроном, главный агр...</td>\n",
       "      <td>44</td>\n",
       "    </tr>\n",
       "    <tr>\n",
       "      <th>35</th>\n",
       "      <td>Зоотехник</td>\n",
       "      <td>Зоотехник</td>\n",
       "      <td>[Зоотехник, Зоотехник, Зоотехник, Зоотехник, З...</td>\n",
       "      <td>42</td>\n",
       "    </tr>\n",
       "    <tr>\n",
       "      <th>54</th>\n",
       "      <td>Тракторист-машинист</td>\n",
       "      <td>Тракторист-машинист</td>\n",
       "      <td>[Тракторист-машинист, Тракторист-машинист, тра...</td>\n",
       "      <td>40</td>\n",
       "    </tr>\n",
       "    <tr>\n",
       "      <th>13</th>\n",
       "      <td>Главный ветеринарный врач</td>\n",
       "      <td>Главный ветеринарный врач</td>\n",
       "      <td>[Главный ветеринарный врач, Старший ветеринарн...</td>\n",
       "      <td>36</td>\n",
       "    </tr>\n",
       "    <tr>\n",
       "      <th>8</th>\n",
       "      <td>Машинист экскаватора</td>\n",
       "      <td>Машинист экскаватора</td>\n",
       "      <td>[Машинист экскаватора, Машинист экскаватора, М...</td>\n",
       "      <td>33</td>\n",
       "    </tr>\n",
       "    <tr>\n",
       "      <th>30</th>\n",
       "      <td>Сервисный инженер</td>\n",
       "      <td>Сервисный инженер</td>\n",
       "      <td>[Сервисный инженер, Сервисный инженер, Сервисн...</td>\n",
       "      <td>25</td>\n",
       "    </tr>\n",
       "    <tr>\n",
       "      <th>18</th>\n",
       "      <td>Главный зоотехник</td>\n",
       "      <td>Главный зоотехник</td>\n",
       "      <td>[Главный зоотехник, Главный зоотехник, Главный...</td>\n",
       "      <td>22</td>\n",
       "    </tr>\n",
       "    <tr>\n",
       "      <th>0</th>\n",
       "      <td>Специалист</td>\n",
       "      <td>Руководитель отдела</td>\n",
       "      <td>[Руководитель отдела, Инжинер-Агроном, руковод...</td>\n",
       "      <td>20</td>\n",
       "    </tr>\n",
       "    <tr>\n",
       "      <th>9</th>\n",
       "      <td>Технолог пищевого производства</td>\n",
       "      <td>Технолог пищевого производства</td>\n",
       "      <td>[Технолог пищевого производства, Технолог пище...</td>\n",
       "      <td>19</td>\n",
       "    </tr>\n",
       "    <tr>\n",
       "      <th>31</th>\n",
       "      <td>Технолог</td>\n",
       "      <td>Технолог</td>\n",
       "      <td>[Технолог, Технолог, Технолог, Технолог, Техно...</td>\n",
       "      <td>18</td>\n",
       "    </tr>\n",
       "    <tr>\n",
       "      <th>41</th>\n",
       "      <td>Технический специалист</td>\n",
       "      <td>Специалист сервисно-монтажной службы</td>\n",
       "      <td>[Специалист сервисно-монтажной службы, Инженер...</td>\n",
       "      <td>17</td>\n",
       "    </tr>\n",
       "    <tr>\n",
       "      <th>16</th>\n",
       "      <td>Инженер-технолог</td>\n",
       "      <td>Инженер-технолог</td>\n",
       "      <td>[Инженер-технолог, Инженер (инженер-технолог),...</td>\n",
       "      <td>16</td>\n",
       "    </tr>\n",
       "    <tr>\n",
       "      <th>45</th>\n",
       "      <td>Главный инженер</td>\n",
       "      <td>Главный механик</td>\n",
       "      <td>[Главный механик, Главный инженер( Инженер-Мех...</td>\n",
       "      <td>15</td>\n",
       "    </tr>\n",
       "    <tr>\n",
       "      <th>3</th>\n",
       "      <td>Главный технолог</td>\n",
       "      <td>Главный технолог</td>\n",
       "      <td>[Главный технолог, Технолог по животноводству,...</td>\n",
       "      <td>14</td>\n",
       "    </tr>\n",
       "    <tr>\n",
       "      <th>20</th>\n",
       "      <td>Руководитель</td>\n",
       "      <td>Директор по агропроизводству</td>\n",
       "      <td>[Директор по агропроизводству, Руководитель, Р...</td>\n",
       "      <td>14</td>\n",
       "    </tr>\n",
       "    <tr>\n",
       "      <th>52</th>\n",
       "      <td>Управляющий животноводческим комплексом</td>\n",
       "      <td>зам по животноводсву</td>\n",
       "      <td>[зам по животноводсву, Начальник животноводчес...</td>\n",
       "      <td>13</td>\n",
       "    </tr>\n",
       "    <tr>\n",
       "      <th>44</th>\n",
       "      <td>агроном-консультант</td>\n",
       "      <td>агроном консультант</td>\n",
       "      <td>[агроном консультант, Консультант, Агроном - к...</td>\n",
       "      <td>13</td>\n",
       "    </tr>\n",
       "    <tr>\n",
       "      <th>6</th>\n",
       "      <td>Мастер по ремонту компьютеров</td>\n",
       "      <td>Инженер по сервисному обслуживанию и эксплуатации</td>\n",
       "      <td>[Инженер по сервисному обслуживанию и эксплуат...</td>\n",
       "      <td>12</td>\n",
       "    </tr>\n",
       "    <tr>\n",
       "      <th>21</th>\n",
       "      <td>Специалист по видеонаблюдению</td>\n",
       "      <td>Специалист по видеонаблюдению</td>\n",
       "      <td>[Специалист по видеонаблюдению, Наладчик систе...</td>\n",
       "      <td>11</td>\n",
       "    </tr>\n",
       "    <tr>\n",
       "      <th>7</th>\n",
       "      <td>Главный инженер - механик (сельское хозяйство)</td>\n",
       "      <td>инженр механик</td>\n",
       "      <td>[инженр механик, Инженер-механик пищевое обору...</td>\n",
       "      <td>10</td>\n",
       "    </tr>\n",
       "    <tr>\n",
       "      <th>32</th>\n",
       "      <td>Инженер-электрик</td>\n",
       "      <td>Слесарь-механик</td>\n",
       "      <td>[Слесарь-механик, Инженер-электромеханик, Меха...</td>\n",
       "      <td>10</td>\n",
       "    </tr>\n",
       "    <tr>\n",
       "      <th>29</th>\n",
       "      <td>Заведующий производством</td>\n",
       "      <td>Директор по производству</td>\n",
       "      <td>[Директор по производству, Начальник производс...</td>\n",
       "      <td>9</td>\n",
       "    </tr>\n",
       "    <tr>\n",
       "      <th>36</th>\n",
       "      <td>Директор</td>\n",
       "      <td>ДИРЕКТОР</td>\n",
       "      <td>[ДИРЕКТОР, гл агроном или зам директора, Замес...</td>\n",
       "      <td>9</td>\n",
       "    </tr>\n",
       "    <tr>\n",
       "      <th>19</th>\n",
       "      <td>Инженер технолог продуктов питания животного п...</td>\n",
       "      <td>Технолог продуктов питания</td>\n",
       "      <td>[Технолог продуктов питания, Специалист (произ...</td>\n",
       "      <td>9</td>\n",
       "    </tr>\n",
       "    <tr>\n",
       "      <th>42</th>\n",
       "      <td>Инженер безпасности дорожного двидения и транс...</td>\n",
       "      <td>дорожный рабочий</td>\n",
       "      <td>[дорожный рабочий, Инженер безпасности дорожно...</td>\n",
       "      <td>8</td>\n",
       "    </tr>\n",
       "    <tr>\n",
       "      <th>28</th>\n",
       "      <td>Ветеринарный специалист</td>\n",
       "      <td>Ветеринарный специалист</td>\n",
       "      <td>[Ветеринарный специалист, Старший ветеринарно-...</td>\n",
       "      <td>8</td>\n",
       "    </tr>\n",
       "    <tr>\n",
       "      <th>56</th>\n",
       "      <td>Управляющий</td>\n",
       "      <td>Управляющий</td>\n",
       "      <td>[Управляющий, Главный специалист, агроном; гла...</td>\n",
       "      <td>8</td>\n",
       "    </tr>\n",
       "    <tr>\n",
       "      <th>15</th>\n",
       "      <td>Водитель погрузчика</td>\n",
       "      <td>Водитель погрузчика</td>\n",
       "      <td>[Водитель погрузчика, Водитель погрузчика, Вод...</td>\n",
       "      <td>8</td>\n",
       "    </tr>\n",
       "    <tr>\n",
       "      <th>4</th>\n",
       "      <td>Ветеринар</td>\n",
       "      <td>Ветеринар</td>\n",
       "      <td>[Ветеринар, Ветеринар, Ветеринар, Ветеринар, В...</td>\n",
       "      <td>7</td>\n",
       "    </tr>\n",
       "    <tr>\n",
       "      <th>38</th>\n",
       "      <td>Инженер по транспорту</td>\n",
       "      <td>Инженер по транспорту</td>\n",
       "      <td>[Инженер по транспорту, Инженер по транспорту,...</td>\n",
       "      <td>7</td>\n",
       "    </tr>\n",
       "    <tr>\n",
       "      <th>51</th>\n",
       "      <td>Начинающий специалист</td>\n",
       "      <td>Начинающий специалист</td>\n",
       "      <td>[Начинающий специалист, Начинающий специалист,...</td>\n",
       "      <td>7</td>\n",
       "    </tr>\n",
       "    <tr>\n",
       "      <th>43</th>\n",
       "      <td>Механизатор</td>\n",
       "      <td>Механизатор</td>\n",
       "      <td>[Механизатор, тракторист механизатор, Трактори...</td>\n",
       "      <td>7</td>\n",
       "    </tr>\n",
       "    <tr>\n",
       "      <th>24</th>\n",
       "      <td>Ветеринарный врач по контролю качества продукции</td>\n",
       "      <td>Ветеринарный врач по контролю качества продукции</td>\n",
       "      <td>[Ветеринарный врач по контролю качества продук...</td>\n",
       "      <td>7</td>\n",
       "    </tr>\n",
       "    <tr>\n",
       "      <th>39</th>\n",
       "      <td>Водитель-экспедитор со своим грузовым автомоби...</td>\n",
       "      <td>машинист подъемника каротажной станции</td>\n",
       "      <td>[машинист подъемника каротажной станции, Тракт...</td>\n",
       "      <td>6</td>\n",
       "    </tr>\n",
       "    <tr>\n",
       "      <th>5</th>\n",
       "      <td>Агроном (защищенный грунт)</td>\n",
       "      <td>Агроном по защите растений</td>\n",
       "      <td>[Агроном по защите растений, Агроном закрытого...</td>\n",
       "      <td>6</td>\n",
       "    </tr>\n",
       "    <tr>\n",
       "      <th>58</th>\n",
       "      <td>Ведущий инженер-механик</td>\n",
       "      <td>Ведущий инженер-механик</td>\n",
       "      <td>[Ведущий инженер-механик, Ведущий инженер, Вед...</td>\n",
       "      <td>6</td>\n",
       "    </tr>\n",
       "    <tr>\n",
       "      <th>22</th>\n",
       "      <td>Зоотехник по кормлению КРС</td>\n",
       "      <td>Эмбриолог КРС</td>\n",
       "      <td>[Эмбриолог КРС, ветеринарный врач молодняк, ве...</td>\n",
       "      <td>6</td>\n",
       "    </tr>\n",
       "    <tr>\n",
       "      <th>14</th>\n",
       "      <td>Машинист ДЭС</td>\n",
       "      <td>Машинист ППДУ</td>\n",
       "      <td>[Машинист ППДУ, машинист ДЭС, Машинист копра, ...</td>\n",
       "      <td>6</td>\n",
       "    </tr>\n",
       "    <tr>\n",
       "      <th>26</th>\n",
       "      <td>Мастер</td>\n",
       "      <td>Главный технолог зерноперерабатывающего предпр...</td>\n",
       "      <td>[Главный технолог зерноперерабатывающего предп...</td>\n",
       "      <td>6</td>\n",
       "    </tr>\n",
       "    <tr>\n",
       "      <th>1</th>\n",
       "      <td>Агроном в тепличный комбинат</td>\n",
       "      <td>Охранник</td>\n",
       "      <td>[Охранник, Инженер по благоустройству, Агроном...</td>\n",
       "      <td>5</td>\n",
       "    </tr>\n",
       "    <tr>\n",
       "      <th>53</th>\n",
       "      <td>Менеджер</td>\n",
       "      <td>Менеджер по закупкам и продажам</td>\n",
       "      <td>[Менеджер по закупкам и продажам, Менеджер по ...</td>\n",
       "      <td>5</td>\n",
       "    </tr>\n",
       "    <tr>\n",
       "      <th>27</th>\n",
       "      <td>Водитель категорие В</td>\n",
       "      <td>Тракторист-машинист  категории \"С\" (Погрузчик)</td>\n",
       "      <td>[Тракторист-машинист  категории \"С\" (Погрузчик...</td>\n",
       "      <td>4</td>\n",
       "    </tr>\n",
       "    <tr>\n",
       "      <th>17</th>\n",
       "      <td>Начальник АТЦ</td>\n",
       "      <td>Начальник АТЦ</td>\n",
       "      <td>[Начальник АТЦ, Сметчик|Инженер ПО|Начальник П...</td>\n",
       "      <td>4</td>\n",
       "    </tr>\n",
       "    <tr>\n",
       "      <th>25</th>\n",
       "      <td>Административный</td>\n",
       "      <td>научный сотрудник</td>\n",
       "      <td>[научный сотрудник, Административный, Научный ...</td>\n",
       "      <td>3</td>\n",
       "    </tr>\n",
       "    <tr>\n",
       "      <th>48</th>\n",
       "      <td>Химик</td>\n",
       "      <td>Химик-лаборант</td>\n",
       "      <td>[Химик-лаборант, Химик, Химик специалист]</td>\n",
       "      <td>3</td>\n",
       "    </tr>\n",
       "    <tr>\n",
       "      <th>50</th>\n",
       "      <td>Монтажник ВОЛС</td>\n",
       "      <td>Монтажник ВОЛС</td>\n",
       "      <td>[Монтажник ВОЛС, Монтажник-слаботочник]</td>\n",
       "      <td>2</td>\n",
       "    </tr>\n",
       "    <tr>\n",
       "      <th>11</th>\n",
       "      <td>Бульдозерист</td>\n",
       "      <td>Эксковаторщик</td>\n",
       "      <td>[Эксковаторщик, Бульдозерист]</td>\n",
       "      <td>2</td>\n",
       "    </tr>\n",
       "    <tr>\n",
       "      <th>23</th>\n",
       "      <td>Инженер-теплотехник</td>\n",
       "      <td>Слесарь-сантехник-теплотехник</td>\n",
       "      <td>[Слесарь-сантехник-теплотехник, Инженер-теплот...</td>\n",
       "      <td>2</td>\n",
       "    </tr>\n",
       "    <tr>\n",
       "      <th>59</th>\n",
       "      <td>Садовник</td>\n",
       "      <td>Садовник</td>\n",
       "      <td>[Садовник, Садовник]</td>\n",
       "      <td>2</td>\n",
       "    </tr>\n",
       "    <tr>\n",
       "      <th>49</th>\n",
       "      <td>растениевод</td>\n",
       "      <td>растениевод</td>\n",
       "      <td>[растениевод]</td>\n",
       "      <td>1</td>\n",
       "    </tr>\n",
       "    <tr>\n",
       "      <th>47</th>\n",
       "      <td>Экономист</td>\n",
       "      <td>Экономист</td>\n",
       "      <td>[Экономист]</td>\n",
       "      <td>1</td>\n",
       "    </tr>\n",
       "    <tr>\n",
       "      <th>46</th>\n",
       "      <td>Машинист трубоукладчика</td>\n",
       "      <td>Машинист трубоукладчика</td>\n",
       "      <td>[Машинист трубоукладчика]</td>\n",
       "      <td>1</td>\n",
       "    </tr>\n",
       "    <tr>\n",
       "      <th>40</th>\n",
       "      <td>Агрономия</td>\n",
       "      <td>Агрономия</td>\n",
       "      <td>[Агрономия]</td>\n",
       "      <td>1</td>\n",
       "    </tr>\n",
       "    <tr>\n",
       "      <th>37</th>\n",
       "      <td>Пробоотборщик</td>\n",
       "      <td>Пробоотборщик</td>\n",
       "      <td>[Пробоотборщик]</td>\n",
       "      <td>1</td>\n",
       "    </tr>\n",
       "    <tr>\n",
       "      <th>34</th>\n",
       "      <td>Агроинженер</td>\n",
       "      <td>Агроинженер</td>\n",
       "      <td>[Агроинженер]</td>\n",
       "      <td>1</td>\n",
       "    </tr>\n",
       "    <tr>\n",
       "      <th>33</th>\n",
       "      <td>Сыродел</td>\n",
       "      <td>Сыродел</td>\n",
       "      <td>[Сыродел]</td>\n",
       "      <td>1</td>\n",
       "    </tr>\n",
       "    <tr>\n",
       "      <th>57</th>\n",
       "      <td>Пекарь</td>\n",
       "      <td>Пекарь</td>\n",
       "      <td>[Пекарь]</td>\n",
       "      <td>1</td>\n",
       "    </tr>\n",
       "  </tbody>\n",
       "</table>\n",
       "</div>"
      ],
      "text/plain": [
       "                                                  cluster_mode  \\\n",
       "60_clusters                                                      \n",
       "12                                             Инженер-механик   \n",
       "2                                                      Агроном   \n",
       "10                                           Ветеринарный врач   \n",
       "55                                             Главный агроном   \n",
       "35                                                   Зоотехник   \n",
       "54                                         Тракторист-машинист   \n",
       "13                                   Главный ветеринарный врач   \n",
       "8                                         Машинист экскаватора   \n",
       "30                                           Сервисный инженер   \n",
       "18                                           Главный зоотехник   \n",
       "0                                                   Специалист   \n",
       "9                               Технолог пищевого производства   \n",
       "31                                                    Технолог   \n",
       "41                                      Технический специалист   \n",
       "16                                            Инженер-технолог   \n",
       "45                                             Главный инженер   \n",
       "3                                             Главный технолог   \n",
       "20                                                Руководитель   \n",
       "52                     Управляющий животноводческим комплексом   \n",
       "44                                         агроном-консультант   \n",
       "6                                Мастер по ремонту компьютеров   \n",
       "21                               Специалист по видеонаблюдению   \n",
       "7               Главный инженер - механик (сельское хозяйство)   \n",
       "32                                            Инженер-электрик   \n",
       "29                                    Заведующий производством   \n",
       "36                                                    Директор   \n",
       "19           Инженер технолог продуктов питания животного п...   \n",
       "42           Инженер безпасности дорожного двидения и транс...   \n",
       "28                                     Ветеринарный специалист   \n",
       "56                                                 Управляющий   \n",
       "15                                         Водитель погрузчика   \n",
       "4                                                    Ветеринар   \n",
       "38                                       Инженер по транспорту   \n",
       "51                                       Начинающий специалист   \n",
       "43                                                 Механизатор   \n",
       "24            Ветеринарный врач по контролю качества продукции   \n",
       "39           Водитель-экспедитор со своим грузовым автомоби...   \n",
       "5                                   Агроном (защищенный грунт)   \n",
       "58                                     Ведущий инженер-механик   \n",
       "22                                  Зоотехник по кормлению КРС   \n",
       "14                                                Машинист ДЭС   \n",
       "26                                                      Мастер   \n",
       "1                                 Агроном в тепличный комбинат   \n",
       "53                                                    Менеджер   \n",
       "27                                        Водитель категорие В   \n",
       "17                                               Начальник АТЦ   \n",
       "25                                            Административный   \n",
       "48                                                       Химик   \n",
       "50                                              Монтажник ВОЛС   \n",
       "11                                                Бульдозерист   \n",
       "23                                         Инженер-теплотехник   \n",
       "59                                                    Садовник   \n",
       "49                                                 растениевод   \n",
       "47                                                   Экономист   \n",
       "46                                     Машинист трубоукладчика   \n",
       "40                                                   Агрономия   \n",
       "37                                               Пробоотборщик   \n",
       "34                                                 Агроинженер   \n",
       "33                                                     Сыродел   \n",
       "57                                                      Пекарь   \n",
       "\n",
       "                                                cluster_center  \\\n",
       "60_clusters                                                      \n",
       "12                                                     Инженер   \n",
       "2                                                      Агроном   \n",
       "10                                           Ветеринарный врач   \n",
       "55                                             Главный агроном   \n",
       "35                                                   Зоотехник   \n",
       "54                                         Тракторист-машинист   \n",
       "13                                   Главный ветеринарный врач   \n",
       "8                                         Машинист экскаватора   \n",
       "30                                           Сервисный инженер   \n",
       "18                                           Главный зоотехник   \n",
       "0                                          Руководитель отдела   \n",
       "9                               Технолог пищевого производства   \n",
       "31                                                    Технолог   \n",
       "41                        Специалист сервисно-монтажной службы   \n",
       "16                                            Инженер-технолог   \n",
       "45                                             Главный механик   \n",
       "3                                             Главный технолог   \n",
       "20                                Директор по агропроизводству   \n",
       "52                                        зам по животноводсву   \n",
       "44                                         агроном консультант   \n",
       "6            Инженер по сервисному обслуживанию и эксплуатации   \n",
       "21                               Специалист по видеонаблюдению   \n",
       "7                                               инженр механик   \n",
       "32                                             Слесарь-механик   \n",
       "29                                    Директор по производству   \n",
       "36                                                    ДИРЕКТОР   \n",
       "19                                  Технолог продуктов питания   \n",
       "42                                            дорожный рабочий   \n",
       "28                                     Ветеринарный специалист   \n",
       "56                                                 Управляющий   \n",
       "15                                         Водитель погрузчика   \n",
       "4                                                    Ветеринар   \n",
       "38                                       Инженер по транспорту   \n",
       "51                                       Начинающий специалист   \n",
       "43                                                 Механизатор   \n",
       "24            Ветеринарный врач по контролю качества продукции   \n",
       "39                      машинист подъемника каротажной станции   \n",
       "5                                   Агроном по защите растений   \n",
       "58                                     Ведущий инженер-механик   \n",
       "22                                               Эмбриолог КРС   \n",
       "14                                               Машинист ППДУ   \n",
       "26           Главный технолог зерноперерабатывающего предпр...   \n",
       "1                                                     Охранник   \n",
       "53                             Менеджер по закупкам и продажам   \n",
       "27              Тракторист-машинист  категории \"С\" (Погрузчик)   \n",
       "17                                               Начальник АТЦ   \n",
       "25                                           научный сотрудник   \n",
       "48                                              Химик-лаборант   \n",
       "50                                              Монтажник ВОЛС   \n",
       "11                                               Эксковаторщик   \n",
       "23                               Слесарь-сантехник-теплотехник   \n",
       "59                                                    Садовник   \n",
       "49                                                 растениевод   \n",
       "47                                                   Экономист   \n",
       "46                                     Машинист трубоукладчика   \n",
       "40                                                   Агрономия   \n",
       "37                                               Пробоотборщик   \n",
       "34                                                 Агроинженер   \n",
       "33                                                     Сыродел   \n",
       "57                                                      Пекарь   \n",
       "\n",
       "                                                    names_list  cluster_size  \n",
       "60_clusters                                                                   \n",
       "12           [Инженер, Инженер, Инженер-механик, инженер, и...           161  \n",
       "2            [Агроном, Агроном, Агроном, Агроном, Агроном, ...           119  \n",
       "10           [Ветеринарный врач, Ветеринарный врач, Ветерин...           105  \n",
       "55           [Главный агроном, Главный агроном, главный агр...            44  \n",
       "35           [Зоотехник, Зоотехник, Зоотехник, Зоотехник, З...            42  \n",
       "54           [Тракторист-машинист, Тракторист-машинист, тра...            40  \n",
       "13           [Главный ветеринарный врач, Старший ветеринарн...            36  \n",
       "8            [Машинист экскаватора, Машинист экскаватора, М...            33  \n",
       "30           [Сервисный инженер, Сервисный инженер, Сервисн...            25  \n",
       "18           [Главный зоотехник, Главный зоотехник, Главный...            22  \n",
       "0            [Руководитель отдела, Инжинер-Агроном, руковод...            20  \n",
       "9            [Технолог пищевого производства, Технолог пище...            19  \n",
       "31           [Технолог, Технолог, Технолог, Технолог, Техно...            18  \n",
       "41           [Специалист сервисно-монтажной службы, Инженер...            17  \n",
       "16           [Инженер-технолог, Инженер (инженер-технолог),...            16  \n",
       "45           [Главный механик, Главный инженер( Инженер-Мех...            15  \n",
       "3            [Главный технолог, Технолог по животноводству,...            14  \n",
       "20           [Директор по агропроизводству, Руководитель, Р...            14  \n",
       "52           [зам по животноводсву, Начальник животноводчес...            13  \n",
       "44           [агроном консультант, Консультант, Агроном - к...            13  \n",
       "6            [Инженер по сервисному обслуживанию и эксплуат...            12  \n",
       "21           [Специалист по видеонаблюдению, Наладчик систе...            11  \n",
       "7            [инженр механик, Инженер-механик пищевое обору...            10  \n",
       "32           [Слесарь-механик, Инженер-электромеханик, Меха...            10  \n",
       "29           [Директор по производству, Начальник производс...             9  \n",
       "36           [ДИРЕКТОР, гл агроном или зам директора, Замес...             9  \n",
       "19           [Технолог продуктов питания, Специалист (произ...             9  \n",
       "42           [дорожный рабочий, Инженер безпасности дорожно...             8  \n",
       "28           [Ветеринарный специалист, Старший ветеринарно-...             8  \n",
       "56           [Управляющий, Главный специалист, агроном; гла...             8  \n",
       "15           [Водитель погрузчика, Водитель погрузчика, Вод...             8  \n",
       "4            [Ветеринар, Ветеринар, Ветеринар, Ветеринар, В...             7  \n",
       "38           [Инженер по транспорту, Инженер по транспорту,...             7  \n",
       "51           [Начинающий специалист, Начинающий специалист,...             7  \n",
       "43           [Механизатор, тракторист механизатор, Трактори...             7  \n",
       "24           [Ветеринарный врач по контролю качества продук...             7  \n",
       "39           [машинист подъемника каротажной станции, Тракт...             6  \n",
       "5            [Агроном по защите растений, Агроном закрытого...             6  \n",
       "58           [Ведущий инженер-механик, Ведущий инженер, Вед...             6  \n",
       "22           [Эмбриолог КРС, ветеринарный врач молодняк, ве...             6  \n",
       "14           [Машинист ППДУ, машинист ДЭС, Машинист копра, ...             6  \n",
       "26           [Главный технолог зерноперерабатывающего предп...             6  \n",
       "1            [Охранник, Инженер по благоустройству, Агроном...             5  \n",
       "53           [Менеджер по закупкам и продажам, Менеджер по ...             5  \n",
       "27           [Тракторист-машинист  категории \"С\" (Погрузчик...             4  \n",
       "17           [Начальник АТЦ, Сметчик|Инженер ПО|Начальник П...             4  \n",
       "25           [научный сотрудник, Административный, Научный ...             3  \n",
       "48                   [Химик-лаборант, Химик, Химик специалист]             3  \n",
       "50                     [Монтажник ВОЛС, Монтажник-слаботочник]             2  \n",
       "11                               [Эксковаторщик, Бульдозерист]             2  \n",
       "23           [Слесарь-сантехник-теплотехник, Инженер-теплот...             2  \n",
       "59                                        [Садовник, Садовник]             2  \n",
       "49                                               [растениевод]             1  \n",
       "47                                                 [Экономист]             1  \n",
       "46                                   [Машинист трубоукладчика]             1  \n",
       "40                                                 [Агрономия]             1  \n",
       "37                                             [Пробоотборщик]             1  \n",
       "34                                               [Агроинженер]             1  \n",
       "33                                                   [Сыродел]             1  \n",
       "57                                                    [Пекарь]             1  "
      ]
     },
     "execution_count": 19,
     "metadata": {},
     "output_type": "execute_result"
    }
   ],
   "source": [
    "(\n",
    "    clustered_data\n",
    "    .groupby(f'{NUM_CLUSTERS}_clusters', as_index=True)\n",
    "    .agg(\n",
    "        cluster_mode=(f'cluster_{NUM_CLUSTERS}_mode', 'min'),\n",
    "        cluster_center=(f'cluster_{NUM_CLUSTERS}_center', 'min'),\n",
    "        names_list=('one_name', list),\n",
    "        cluster_size=(f'cluster_{NUM_CLUSTERS}_size', 'min')\n",
    "    )\n",
    "    .sort_values(by=f'cluster_size', ascending=False)\n",
    ")"
   ]
  },
  {
   "cell_type": "code",
   "execution_count": null,
   "metadata": {},
   "outputs": [],
   "source": []
  }
 ],
 "metadata": {
  "colab": {
   "authorship_tag": "ABX9TyP151dEfOjPa1w/3DdBZ928",
   "mount_file_id": "1bnkZ4Uvcc8MseFGT7GoWBIPDPwfKgxRN",
   "provenance": [
    {
     "file_id": "1g4b9EMA0eRyr5p1seW3IO-9TUMGgeMly",
     "timestamp": 1700289932296
    },
    {
     "file_id": "11c-pdYvEHm1rV7wUDoNJ0CvMMBteUqPq",
     "timestamp": 1699794012796
    }
   ],
   "toc_visible": true
  },
  "kernelspec": {
   "display_name": "Python 3 (ipykernel)",
   "language": "python",
   "name": "python3"
  },
  "language_info": {
   "codemirror_mode": {
    "name": "ipython",
    "version": 3
   },
   "file_extension": ".py",
   "mimetype": "text/x-python",
   "name": "python",
   "nbconvert_exporter": "python",
   "pygments_lexer": "ipython3",
   "version": "3.10.9"
  }
 },
 "nbformat": 4,
 "nbformat_minor": 1
}
